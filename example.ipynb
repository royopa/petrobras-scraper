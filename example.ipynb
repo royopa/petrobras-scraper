{
 "cells": [
  {
   "cell_type": "code",
   "execution_count": null,
   "metadata": {},
   "outputs": [],
   "source": [
    "import requests\n",
    "import time\n",
    "import csv\n",
    "import datetime\n",
    "import pandas as pd\n",
    "import numpy as np\n",
    "\n",
    "name_file_base = 'indices_diesel_e_gasolina_base.csv'\n",
    "path_file_base = 'bases/'+name_file_base\n",
    "\n",
    "# começa a fazer os cálculos para o arquivo base\n",
    "df = pd.read_csv(path_file_base, sep=';')\n",
    "# converte os dados do dataframe\n",
    "df['data'] = pd.to_datetime(df['Data'], format='%d/%m/%Y', errors='ignore')\n",
    "del df['Data']\n",
    "\n",
    "count_nan = sum(pd.isnull(df['indice_gasolina']))\n",
    "while count_nan > 0:\n",
    "    df['indice_gasolina'] = df['indice_gasolina'].fillna(value=(df['indice_gasolina'].shift(1) * df.Gasolina / 100) + df['indice_gasolina'].shift(1))\n",
    "    df['indice_diesel'] = df['indice_gasolina'].fillna(value=(df['indice_diesel'].shift(1) * df.Diesel / 100) + df['indice_diesel'].shift(1))    \n",
    "    count_nan -= 1\n",
    "\n",
    "df['indice_gasolina'] = df['indice_gasolina'].round(2)\n",
    "df['indice_diesel'] = df['indice_gasolina'].round(2)\n",
    "\n",
    "start_date = datetime.datetime(2017, 1, 1)\n",
    "all_days = pd.date_range(start_date, df['data'].max(), freq='D')\n",
    "df.index = pd.DatetimeIndex(df.data)\n",
    "df = df.reindex(all_days, fill_value=0)\n",
    "\n",
    "df['data'] = df.index\n",
    "\n",
    "#count_zeros = sum((df['indice_gasolina']==0).all())\n",
    "#while count_zeros > 0:\n",
    "#    df['indice_gasolina'] = df['indice_gasolina'].fillna(value=(df['indice_gasolina'].shift(1) * df.Gasolina / 100) + df['indice_gasolina'].shift(1))\n",
    "#    df['indice_diesel'] = df['indice_gasolina'].fillna(value=(df['indice_diesel'].shift(1) * df.Diesel / 100) + df['indice_diesel'].shift(1))    \n",
    "#    count_nan -= 1\n",
    "\n",
    "df"
   ]
  }
 ],
 "metadata": {
  "kernelspec": {
   "display_name": "Python 3",
   "language": "python",
   "name": "python3"
  },
  "language_info": {
   "codemirror_mode": {
    "name": "ipython",
    "version": 3
   },
   "file_extension": ".py",
   "mimetype": "text/x-python",
   "name": "python",
   "nbconvert_exporter": "python",
   "pygments_lexer": "ipython3",
   "version": "3.5.2"
  }
 },
 "nbformat": 4,
 "nbformat_minor": 2
}
