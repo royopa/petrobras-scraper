{
 "cells": [
  {
   "cell_type": "code",
   "execution_count": 16,
   "metadata": {},
   "outputs": [
    {
     "name": "stdout",
     "output_type": "stream",
     "text": [
      "{'start_date': datetime.datetime(2017, 11, 11, 0, 0), 'end_date': datetime.datetime(2017, 12, 10, 0, 0)}\n",
      "2017-11-11 00:00:00\n",
      "2017-12-10 00:00:00\n",
      "{'start_date': datetime.datetime(2017, 11, 11, 0, 0), 'end_date': datetime.datetime(2017, 12, 10, 0, 0)}\n",
      "2017-11-11 00:00:00\n",
      "2017-12-10 00:00:00\n",
      "{'start_date': datetime.datetime(2017, 12, 1, 0, 0), 'end_date': datetime.datetime(2017, 12, 31, 0, 0)}\n",
      "2017-12-01 00:00:00\n",
      "2017-12-31 00:00:00\n"
     ]
    }
   ],
   "source": [
    "import time\n",
    "import csv\n",
    "import datetime\n",
    "import pandas as pd\n",
    "import numpy as np\n",
    "import dateutil.relativedelta\n",
    "import calendar\n",
    "\n",
    "name_file_base = 'saida_indices_diesel_e_gasolina_base.csv'\n",
    "path_file_base = 'bases/'+name_file_base\n",
    "df = pd.read_csv(path_file_base, sep=';')\n",
    "\n",
    "def filtra_df_por_data(df, start_date, end_date):\n",
    "    mask = (df['Data'] >= start_date) & (df['Data'] <= end_date)\n",
    "    return (df.loc[mask])\n",
    "\n",
    "def get_datas_by_indice(data_referencia, indice = \"\"):\n",
    "    # calcula o último mês de acordo com a data de referência\n",
    "    last_month = data_referencia - dateutil.relativedelta.relativedelta(months=1)\n",
    "   \n",
    "    if (indice == \"10\"):\n",
    "        # IGP 10 - do dia 11 mês anterior ao dia 10 do mês de referência\n",
    "        return {\n",
    "            'start_date': last_month.replace(day=11),\n",
    "            'end_date': data_referencia.replace(day=10)\n",
    "        }\n",
    "    \n",
    "    if (indice == \"m\"):\n",
    "        # IGP M - do dia 21 do mês anterior ao dia 20 do mês de referência\n",
    "        return {\n",
    "            'start_date': last_month.replace(day=11),\n",
    "            'end_date': data_referencia.replace(day=10)\n",
    "        }\n",
    "        data_ini_igp_m = last_month.replace(day=21)\n",
    "        data_fim_igp_m = data_referencia.replace(day=20)        \n",
    "    \n",
    "\n",
    "    if (indice == \"di\"):\n",
    "        # IGP DI - primeiro e último dia do mês de referência\n",
    "        end_date = data_referencia.replace(\n",
    "            day=calendar.monthrange(\n",
    "                data_referencia.year, data_referencia.month\n",
    "            )[1]\n",
    "        )\n",
    "        \n",
    "        return {\n",
    "            'start_date': data_referencia.replace(day=1),\n",
    "            'end_date': end_date\n",
    "        }\n",
    "    \n",
    "    return False\n",
    "\n",
    "data_referencia = datetime.datetime(2017, 12, 1)\n",
    "get_datas_by_indice(data_referencia, indice = \"10\")\n",
    "get_datas_by_indice(data_referencia, indice = \"m\")\n",
    "get_datas_by_indice(data_referencia, indice = \"di\")\n",
    "\n",
    "for indice in ['10', 'm', 'di']:\n",
    "    print(get_datas_by_indice(data_referencia, indice=indice))\n",
    "    print(get_datas_by_indice(data_referencia, indice=indice)['start_date'])\n",
    "    print(get_datas_by_indice(data_referencia, indice=indice)['end_date'])\n"
   ]
  },
  {
   "cell_type": "code",
   "execution_count": null,
   "metadata": {},
   "outputs": [],
   "source": []
  },
  {
   "cell_type": "code",
   "execution_count": null,
   "metadata": {},
   "outputs": [],
   "source": []
  }
 ],
 "metadata": {
  "kernelspec": {
   "display_name": "Python 3",
   "language": "python",
   "name": "python3"
  },
  "language_info": {
   "codemirror_mode": {
    "name": "ipython",
    "version": 3
   },
   "file_extension": ".py",
   "mimetype": "text/x-python",
   "name": "python",
   "nbconvert_exporter": "python",
   "pygments_lexer": "ipython3",
   "version": "3.5.2"
  }
 },
 "nbformat": 4,
 "nbformat_minor": 2
}
